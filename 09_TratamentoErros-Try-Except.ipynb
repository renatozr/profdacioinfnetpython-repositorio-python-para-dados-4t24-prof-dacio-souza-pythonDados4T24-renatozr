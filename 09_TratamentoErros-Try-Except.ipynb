{
 "cells": [
  {
   "cell_type": "markdown",
   "metadata": {},
   "source": [
    "# Tratamento de Exceções Basico em Python"
   ]
  },
  {
   "cell_type": "code",
   "execution_count": 18,
   "metadata": {},
   "outputs": [
    {
     "name": "stdout",
     "output_type": "stream",
     "text": [
      "The Zen of Python, by Tim Peters\n",
      "\n",
      "Beautiful is better than ugly.\n",
      "Explicit is better than implicit.\n",
      "Simple is better than complex.\n",
      "Complex is better than complicated.\n",
      "Flat is better than nested.\n",
      "Sparse is better than dense.\n",
      "Readability counts.\n",
      "Special cases aren't special enough to break the rules.\n",
      "Although practicality beats purity.\n",
      "Errors should never pass silently.\n",
      "Unless explicitly silenced.\n",
      "In the face of ambiguity, refuse the temptation to guess.\n",
      "There should be one-- and preferably only one --obvious way to do it.\n",
      "Although that way may not be obvious at first unless you're Dutch.\n",
      "Now is better than never.\n",
      "Although never is often better than *right* now.\n",
      "If the implementation is hard to explain, it's a bad idea.\n",
      "If the implementation is easy to explain, it may be a good idea.\n",
      "Namespaces are one honking great idea -- let's do more of those!\n"
     ]
    }
   ],
   "source": [
    "import this"
   ]
  },
  {
   "cell_type": "markdown",
   "metadata": {},
   "source": [
    "\n",
    "## Objetivo:\n",
    "Tratamento de excecoes em Python, usando os blocos `Try/Except` para capturar e responder a erros ***de forma controlada***, impedindo que o programa pare de funcionar.\n"
   ]
  },
  {
   "cell_type": "code",
   "execution_count": 1,
   "metadata": {},
   "outputs": [
    {
     "ename": "TypeError",
     "evalue": "unsupported operand type(s) for /: 'int' and 'str'",
     "output_type": "error",
     "traceback": [
      "\u001b[1;31m---------------------------------------------------------------------------\u001b[0m",
      "\u001b[1;31mTypeError\u001b[0m                                 Traceback (most recent call last)",
      "Cell \u001b[1;32mIn[1], line 1\u001b[0m\n\u001b[1;32m----> 1\u001b[0m resultado \u001b[38;5;241m=\u001b[39m \u001b[38;5;241;43m10\u001b[39;49m\u001b[38;5;241;43m/\u001b[39;49m\u001b[38;5;124;43m\"\u001b[39;49m\u001b[38;5;124;43m0\u001b[39;49m\u001b[38;5;124;43m\"\u001b[39;49m\n",
      "\u001b[1;31mTypeError\u001b[0m: unsupported operand type(s) for /: 'int' and 'str'"
     ]
    }
   ],
   "source": [
    "resultado = 10/\"0\""
   ]
  },
  {
   "cell_type": "code",
   "execution_count": null,
   "metadata": {},
   "outputs": [
    {
     "name": "stdout",
     "output_type": "stream",
     "text": [
      "Erro: Divisao por zero nao e permitida.\n"
     ]
    }
   ],
   "source": [
    "\n",
    "# Exemplo de Try/Except\n",
    "try:\n",
    "    # Tentativa de divisao por zero\n",
    "    resultado = 10 / 0\n",
    "except ZeroDivisionError:\n",
    "    print(\"Erro: Divisao por zero nao e permitida.\")\n"
   ]
  },
  {
   "cell_type": "code",
   "execution_count": null,
   "metadata": {},
   "outputs": [
    {
     "name": "stdout",
     "output_type": "stream",
     "text": [
      "Erro: Divisao por zero nao e permitida.\n"
     ]
    }
   ],
   "source": [
    "\n",
    "# Exemplo de Try/Except\n",
    "try:\n",
    "    # Tentativa de divisao por zero\n",
    "    resultado = 10 / 0\n",
    "except:\n",
    "    pass\n",
    "# restante do código vai ser executado"
   ]
  },
  {
   "cell_type": "markdown",
   "metadata": {},
   "source": [
    "--- \n",
    "# **Atenção**: \n",
    "## Tratar erros não é silenciar erros!!!\n",
    "\n",
    "## Lide com cada tipo de erro da forma adequada!!\n",
    "\n",
    "## Evite a captura de erro genérico capturando toda a classe Exception\n",
    "\n",
    "---"
   ]
  },
  {
   "cell_type": "markdown",
   "metadata": {},
   "source": [
    "__Capture exceções específicas para evitar abafar outros erros não relacionados.__"
   ]
  },
  {
   "cell_type": "markdown",
   "metadata": {},
   "source": [
    "Use múltiplos blocos Except para capturar diferentes tipos de exceções lidando com cada um deles da forma adequada."
   ]
  },
  {
   "cell_type": "code",
   "execution_count": null,
   "metadata": {},
   "outputs": [
    {
     "name": "stdout",
     "output_type": "stream",
     "text": [
      "Erro de tipo. unsupported operand type(s) for /: 'int' and 'str'\n"
     ]
    }
   ],
   "source": [
    "try:\n",
    "    # código que pode gerar múltiplos erros\n",
    "    resultado = 10 / \"0\"\n",
    "    print(resultado)\n",
    "except ZeroDivisionError as e:\n",
    "    print(\"Divisão por zero.\", e)\n",
    "except TypeError as e:\n",
    "    print(\"Erro de tipo.\", e)\n",
    "except ArithmeticError as e:\n",
    "    print(\"erro aritimético\", e)\n",
    "except Exception as e:\n",
    "    print(\"Ocorreu um erro desconhecido durante a execução:\", e)\n",
    "\n"
   ]
  },
  {
   "cell_type": "markdown",
   "metadata": {},
   "source": [
    "\n",
    "## Desafio:\n",
    "Escreva uma função que solicita ao usuário dois números e tenta dividir o primeiro pelo segundo. Use o tratamento de exceções para lidar com a entrada inválida (ex: texto ao invés de número) e a divisão por zero, informando ao usuário a natureza do erro.\n"
   ]
  },
  {
   "cell_type": "markdown",
   "metadata": {},
   "source": [
    "# Tecnicas Avancadas de Tratamento de Excecoes em Python"
   ]
  },
  {
   "cell_type": "markdown",
   "metadata": {},
   "source": [
    "\n",
    "Tratamento de excecoes em Python, com conceitos como excecoes personalizadas e a utilizacao dos blocos `else` e `finally`.\n"
   ]
  },
  {
   "cell_type": "markdown",
   "metadata": {},
   "source": [
    " - `Else` é executado quando nenhuma exceção é capturada.\n",
    " - `Finally` é executado sempre, independentemente de uma exceção ser capturada ou não."
   ]
  },
  {
   "cell_type": "code",
   "execution_count": 14,
   "metadata": {},
   "outputs": [
    {
     "name": "stdout",
     "output_type": "stream",
     "text": [
      "Tentando converter 'dez' para inteiro...\n",
      "Conversao bem sucedida: 10\n",
      "Bloco finally executado.\n"
     ]
    }
   ],
   "source": [
    "\n",
    "# Uso de Else e Finally\n",
    "try:\n",
    "    print(\"Tentando converter 'dez' para inteiro...\")\n",
    "    num = int(10)\n",
    "except ValueError:\n",
    "    print(\"Erro: Conversao falhou.\")\n",
    "except:\n",
    "    print(\"Aconteceu um erro não previsto\")\n",
    "else:\n",
    "    print(f\"Conversao bem sucedida: {num}\")\n",
    "finally:\n",
    "    print(\"Bloco finally executado.\")\n"
   ]
  },
  {
   "cell_type": "markdown",
   "metadata": {},
   "source": [
    "## Exceções Personalizadas\n",
    "\n",
    "Crie exceções personalizadas com `raise` para lidar com falhas que sejam problemas específicos na implementação que você está elaborando.\n",
    "\n",
    "Exceções personalizadas melhoram a clareza do código e facilitam a depuração."
   ]
  },
  {
   "cell_type": "code",
   "execution_count": 19,
   "metadata": {},
   "outputs": [
    {
     "ename": "ErrorDeDivisaoPersonalizado",
     "evalue": "Divisão de zero não permitida.",
     "output_type": "error",
     "traceback": [
      "\u001b[1;31m---------------------------------------------------------------------------\u001b[0m",
      "\u001b[1;31mErrorDeDivisaoPersonalizado\u001b[0m               Traceback (most recent call last)",
      "Cell \u001b[1;32mIn[19], line 13\u001b[0m\n\u001b[0;32m     11\u001b[0m valor \u001b[38;5;241m=\u001b[39m \u001b[38;5;241m0\u001b[39m \u001b[38;5;241m/\u001b[39m \u001b[38;5;241m10\u001b[39m\n\u001b[0;32m     12\u001b[0m \u001b[38;5;28;01mif\u001b[39;00m valor \u001b[38;5;241m==\u001b[39m \u001b[38;5;241m0\u001b[39m:\n\u001b[1;32m---> 13\u001b[0m     \u001b[38;5;28;01mraise\u001b[39;00m ErrorDeDivisaoPersonalizado(\u001b[38;5;124m\"\u001b[39m\u001b[38;5;124mDivisão de zero não permitida.\u001b[39m\u001b[38;5;124m\"\u001b[39m)\n",
      "\u001b[1;31mErrorDeDivisaoPersonalizado\u001b[0m: Divisão de zero não permitida."
     ]
    }
   ],
   "source": [
    "class ErrorDeDivisaoPersonalizado(Exception):\n",
    "    pass\n",
    "\n",
    "# try:\n",
    "#     valor = 0 / 10\n",
    "#     if valor == 0:\n",
    "#         raise ErrorDeDivisaoPersonalizado(\"Divisão de zero não permitida.\")\n",
    "# except ErrorDeDivisaoPersonalizado as e:\n",
    "#     print(e)\n",
    "\n",
    "valor = 0 / 10\n",
    "if valor == 0:\n",
    "    raise ErrorDeDivisaoPersonalizado(\"Divisão de zero não permitida.\")"
   ]
  },
  {
   "cell_type": "code",
   "execution_count": 20,
   "metadata": {},
   "outputs": [
    {
     "name": "stdout",
     "output_type": "stream",
     "text": [
      "Valor dentro do limite aceitavel.\n"
     ]
    }
   ],
   "source": [
    "\n",
    "# Exemplo de Excecao Personalizada\n",
    "class ValorMuitoAltoError(Exception):\n",
    "    pass\n",
    "\n",
    "def verificar_valor(valor):\n",
    "    if valor > 100:\n",
    "        raise ValorMuitoAltoError(\"O valor é muito alto.\")\n",
    "    else:\n",
    "        print(\"Valor dentro do limite aceitavel.\")\n",
    "        \n",
    "try:\n",
    "    verificar_valor(15)\n",
    "except ValorMuitoAltoError as e:\n",
    "    print(e)\n",
    "\n",
    "#     verificar_valor(151)"
   ]
  },
  {
   "cell_type": "code",
   "execution_count": null,
   "metadata": {},
   "outputs": [
    {
     "name": "stdout",
     "output_type": "stream",
     "text": [
      "Divisão de zero não é desejada neste contexto.\n",
      "O programa será encerrado...\n"
     ]
    }
   ],
   "source": [
    "class ErrorDeDivisaoPersonalizado(Exception):\n",
    "    pass\n",
    "\n",
    "def valida_entrada():\n",
    "    entrada = input(\"digite um numero\")\n",
    "    try:\n",
    "        if entrada == \"0\":\n",
    "            print(\"o numerador não pode ser zero\")\n",
    "            raise ErrorDeDivisaoPersonalizado\n",
    "    except ErrorDeDivisaoPersonalizado:\n",
    "        valida_entrada()\n",
    "    else:\n",
    "        try:\n",
    "            entrada = float(entrada)\n",
    "        except ValueError:\n",
    "            print(\"digite apenas numeros\")\n",
    "            valida_entrada()\n",
    "        else:\n",
    "            return entrada\n",
    "    \n",
    "\n",
    "# Solucao do Desafio\n",
    "def dividir_com_excecoes():\n",
    "    try:\n",
    "        num1 = valida_entrada()\n",
    "        num2 = float(input(\"Digite o denominador: \"))\n",
    "        resultado = num1 / num2\n",
    "        \n",
    "        if resultado == 0:\n",
    "            raise ErrorDeDivisaoPersonalizado(\"Divisão de zero não é desejada neste contexto.\")\n",
    "    except ErrorDeDivisaoPersonalizado as e:\n",
    "        print(e)\n",
    "    except ZeroDivisionError:\n",
    "        print(\"Erro: Divisao por zero nao é permitida.\")\n",
    "    except ValueError:\n",
    "        print(\"Erro: Por favor, insira apenas números.\")\n",
    "    else:\n",
    "        print(f\"Resultado: {resultado}\")\n",
    "    finally:\n",
    "        print(\"O programa será encerrado...\")\n",
    "        \n",
    "dividir_com_excecoes()"
   ]
  },
  {
   "cell_type": "markdown",
   "metadata": {},
   "source": [
    "\n",
    "## Desafio:\n",
    "Crie uma funcao que recebe uma lista de numeros e retorna uma nova lista apenas com os numeros positivos. Use uma excecao personalizada para tratar o caso em que um numero negativo e encontrado, interrompendo a execucao e retornando a lista acumulada ate o ponto da excecao.\n"
   ]
  },
  {
   "cell_type": "markdown",
   "metadata": {},
   "source": [
    "## Levantando erros com teste `assert`\n",
    "\n",
    "- Erro de entrada do usuário.\n"
   ]
  },
  {
   "cell_type": "code",
   "execution_count": 32,
   "metadata": {},
   "outputs": [
    {
     "name": "stdout",
     "output_type": "stream",
     "text": [
      "apenas inteiros\n"
     ]
    }
   ],
   "source": [
    "\n",
    "\n",
    "\n",
    "def dividir(a, b: int):\n",
    "    assert b != 0, \"Divisor não pode ser zero.\"\n",
    "    assert type(b) == int, \"apenas inteiros\"\n",
    "    return a / b\n",
    "\n",
    "try:\n",
    "    resultado = dividir(10, 1.2)\n",
    "except AssertionError as error:\n",
    "    print(error)\n",
    "else:\n",
    "    print(resultado)\n"
   ]
  },
  {
   "cell_type": "markdown",
   "metadata": {},
   "source": [
    "## Desafio\n",
    "\n",
    "Implementem um módulo de cadastro de usuários para uma aplicação, utilizando exceções personalizadas para tratar erros como usuário já existente e dados de entrada inválidos. \n",
    "Utilizar o bloco else para confirmar a conclusão bem-sucedida do cadastro.\n"
   ]
  },
  {
   "cell_type": "markdown",
   "metadata": {},
   "source": [
    "## Outros tipos de erros para se ter em mente\n",
    "- Erro de valor.\n",
    "- Erro de tipo.\n",
    "- Erro de programação.\n",
    "- Erro de lógica.\n",
    "- Erro de implementação.\n",
    "- Erro de comunicação.\n",
    "- Erro de hardware.\n",
    "- Erro de software.\n",
    "- Erro de sistema.\n",
    "- Erro de rede.\n",
    "- Erro de servidor.\n",
    "- Erro de cliente.\n",
    "- Erro de conexão.\n",
    "- Erro de autenticação.\n",
    "- Erro de autorização.\n",
    "- Erro de validação.\n",
    "- Erro de segurança.\n",
    "- Erro de privacidade."
   ]
  },
  {
   "cell_type": "markdown",
   "metadata": {},
   "source": [
    "## Falhas padrões comuns recomendadas a serem tratadas\n",
    "\n",
    "- `ValueError`: Erro de valor.\n",
    "- `TypeError`: Erro de tipo.\n",
    "- `IndexError`: Erro de índice.\n",
    "- `KeyError`: Erro de chave.\n",
    "- `AttributeError`: Erro de atributo.\n",
    "- `ZeroDivisionError`: Erro de divisão por zero.\n",
    "- `FileNotFoundError`: Erro de arquivo não encontrado.\n",
    "- `ImportError`: Erro de importação.\n",
    "- `MemoryError`: Erro de memória.\n",
    "- `SyntaxError`: Erro de sintaxe.\n",
    "- `IndentationError`: Erro de indentação.\n",
    "- `NameError`: Erro de nome.\n",
    "- `OverflowError`: Erro de estouro.\n",
    "- `RuntimeError`: Erro de tempo de execução.\n",
    "- `NotImplementedError`: Erro de não implementado.\n",
    "- `RecursionError`: Erro de recursão.\n",
    "- `KeyboardInterrupt`: Erro de interrupção do teclado.\n",
    "- `KeyInterrupt`: Erro de interrupção de chave.\n",
    "- `EOFError`: Erro de fim de arquivo.\n",
    "- `IOError`: Erro de E/S.\n",
    "- `OSError`: Erro do sistema operacional.\n",
    "- `ConnectionError`: Erro de conexão.\n",
    "- `TimeoutError`: Erro de tempo limite.\n",
    "- `BrokenPipeError`: Erro de pipe quebrado.\n",
    "- `PermissionError`: Erro de permissão.\n",
    "- `FileExistsError`: Erro de arquivo existente.\n",
    "- `IsADirectoryError`: Erro de diretório.\n",
    "- `NotADirectoryError`: Erro de não diretório.\n",
    "  \n"
   ]
  },
  {
   "cell_type": "markdown",
   "metadata": {},
   "source": [
    "# Exemplos complexos"
   ]
  },
  {
   "cell_type": "markdown",
   "metadata": {},
   "source": [
    "\n",
    "### **Caso 1: Aninhamento de blocos try-except**\n",
    "\n",
    "**Situação:** Suponha que estamos lendo dados de um arquivo e processando esses dados. Tanto a leitura quanto o processamento podem gerar exceções diferentes.\n",
    "\n"
   ]
  },
  {
   "cell_type": "code",
   "execution_count": 8,
   "metadata": {},
   "outputs": [
    {
     "name": "stdout",
     "output_type": "stream",
     "text": [
      "Erro: O arquivo 'dados.txt' não foi encontrado.\n"
     ]
    }
   ],
   "source": [
    "\n",
    "def processar_dados(dados):\n",
    "    return int(dados.strip())\n",
    "\n",
    "try:\n",
    "    try:\n",
    "        arquivo = open('dados.txt', 'r')\n",
    "    except FileNotFoundError:\n",
    "        print(\"Erro: O arquivo 'dados.txt' não foi encontrado.\")\n",
    "    else:\n",
    "        try:\n",
    "            conteudo = arquivo.read()\n",
    "            resultado = processar_dados(conteudo)\n",
    "        except ValueError:\n",
    "            print(\"Erro: Os dados no arquivo não estão no formato correto.\")\n",
    "        else:\n",
    "            print(f\"Dados processados com sucesso: {resultado}\")\n",
    "        finally:\n",
    "            arquivo.close()\n",
    "            print(\"Arquivo fechado.\")\n",
    "except Exception as e:\n",
    "    print(f\"Ocorreu um erro inesperado: {e}\")\n"
   ]
  },
  {
   "cell_type": "markdown",
   "metadata": {},
   "source": [
    "\n",
    "\n",
    "**Explicação:**\n",
    "\n",
    "- Utilizamos um bloco `try-except` externo para capturar exceções inesperadas.\n",
    "- Dentro dele, temos um `try-except` para abertura do arquivo e outro para processamento dos dados.\n",
    "- O `finally` garante que o arquivo será fechado independentemente do que acontecer.\n",
    "- **Aplicação:** Este padrão é útil em situações onde diferentes partes do código podem gerar exceções distintas, e queremos tratá-las separadamente para fornecer feedback específico ao usuário.\n",
    "\n",
    "---\n"
   ]
  },
  {
   "cell_type": "markdown",
   "metadata": {},
   "source": [
    "\n",
    "### **Caso 2: Re-lançamento de exceções (re-raising)**\n",
    "\n",
    "**Situação:** Em uma função, queremos adicionar contexto adicional a uma exceção, mas também queremos que a exceção original seja propagada.\n",
    "\n"
   ]
  },
  {
   "cell_type": "code",
   "execution_count": 9,
   "metadata": {},
   "outputs": [
    {
     "name": "stdout",
     "output_type": "stream",
     "text": [
      "Erro: Lista de valores está vazia.\n",
      "Não foi possível calcular a média devido a divisão por zero.\n"
     ]
    }
   ],
   "source": [
    "\n",
    "def calcular_media(valores):\n",
    "    try:\n",
    "        total = sum(valores)\n",
    "        quantidade = len(valores)\n",
    "        return total / quantidade\n",
    "    except ZeroDivisionError as e:\n",
    "        print(\"Erro: Lista de valores está vazia.\")\n",
    "        raise  # Re-lança a exceção para ser tratada em um nível superior\n",
    "\n",
    "try:\n",
    "    media = calcular_media([])\n",
    "except ZeroDivisionError:\n",
    "    print(\"Não foi possível calcular a média devido a divisão por zero.\")\n"
   ]
  },
  {
   "cell_type": "markdown",
   "metadata": {},
   "source": [
    "\n",
    "\n",
    "**Explicação:**\n",
    "\n",
    "- A função `calcular_media` tenta calcular a média de uma lista.\n",
    "- Se a lista estiver vazia, ocorre um `ZeroDivisionError`.\n",
    "- Capturamos a exceção, imprimimos uma mensagem personalizada e re-lançamos a exceção para que possa ser tratada em outro lugar.\n",
    "- **Aplicação:** Re-lançar exceções é útil quando queremos adicionar informações ou fazer alguma ação adicional antes de permitir que a exceção continue a propagar.\n",
    "\n",
    "---\n"
   ]
  },
  {
   "cell_type": "markdown",
   "metadata": {},
   "source": [
    "\n",
    "### **Caso 3: Exceção encadeada (exception chaining)**\n",
    "\n",
    "**Situação:** Queremos lançar uma nova exceção enquanto preservamos o rastreamento (traceback) da exceção original.\n",
    "\n"
   ]
  },
  {
   "cell_type": "code",
   "execution_count": 10,
   "metadata": {},
   "outputs": [
    {
     "name": "stdout",
     "output_type": "stream",
     "text": [
      "Erro: Falha ao converter o valor para inteiro.\n",
      "Exceção original: invalid literal for int() with base 10: 'abc'\n"
     ]
    }
   ],
   "source": [
    "\n",
    "def converter_para_int(valor):\n",
    "    try:\n",
    "        return int(valor)\n",
    "    except ValueError as e:\n",
    "        raise TypeError(\"Falha ao converter o valor para inteiro.\") from e\n",
    "\n",
    "try:\n",
    "    numero = converter_para_int(\"abc\")\n",
    "except TypeError as e:\n",
    "    print(f\"Erro: {e}\")\n",
    "    print(f\"Exceção original: {e.__cause__}\")\n"
   ]
  },
  {
   "cell_type": "markdown",
   "metadata": {},
   "source": [
    "\n",
    "**Explicação:**\n",
    "\n",
    "- Usamos `raise ... from e` para encadear exceções.\n",
    "- Isso preserva a exceção original (`ValueError`) como causa da nova exceção (`TypeError`).\n",
    "- Podemos acessar a exceção original usando `e.__cause__`.\n",
    "- **Aplicação:** Exception chaining é útil para depuração, pois mantém o contexto completo das exceções que ocorreram.\n",
    "\n",
    "---\n"
   ]
  },
  {
   "cell_type": "markdown",
   "metadata": {},
   "source": [
    "\n",
    "### **Caso 4: Uso de context manager personalizado para tratamento de exceções**\n",
    "\n",
    "**Situação:** Criar um gerenciador de contexto que trata exceções de forma personalizada.\n",
    "\n"
   ]
  },
  {
   "cell_type": "code",
   "execution_count": 11,
   "metadata": {},
   "outputs": [
    {
     "name": "stdout",
     "output_type": "stream",
     "text": [
      "Bloco executado com sucesso.\n"
     ]
    }
   ],
   "source": [
    "class IgnorarExcecoes:\n",
    "    def __init__(self, *excecoes):\n",
    "        self.excecoes = excecoes\n",
    "\n",
    "    def __enter__(self):\n",
    "        pass\n",
    "\n",
    "    def __exit__(self, tipo, valor, traceback):\n",
    "        return isinstance(valor, self.excecoes)\n",
    "\n",
    "try:\n",
    "    with IgnorarExcecoes(ZeroDivisionError, ValueError):\n",
    "        resultado = 10 / 0\n",
    "        numero = int(\"abc\")\n",
    "    print(\"Bloco executado com sucesso.\")\n",
    "except Exception as e:\n",
    "    print(f\"Ocorreu uma exceção não ignorada: {e}\")\n"
   ]
  },
  {
   "cell_type": "markdown",
   "metadata": {},
   "source": [
    "\n",
    "\n",
    "**Explicação:**\n",
    "\n",
    "- Criamos um gerenciador de contexto `IgnorarExcecoes` que ignora exceções especificadas.\n",
    "- Se uma exceção ocorrer dentro do bloco `with`, o método `__exit__` verifica se a exceção está na lista para ser ignorada.\n",
    "- Se retornar `True`, a exceção é suprimida.\n",
    "- **Aplicação:** Útil para silenciar exceções esperadas em determinadas situações, mantendo o código organizado.\n",
    "\n",
    "---\n"
   ]
  },
  {
   "cell_type": "markdown",
   "metadata": {},
   "source": [
    "\n",
    "### **Caso 5: Registro de exceções usando o módulo logging**\n",
    "\n",
    "**Situação:** Registrar exceções em um arquivo de log para análise posterior.\n",
    "\n"
   ]
  },
  {
   "cell_type": "code",
   "execution_count": null,
   "metadata": {},
   "outputs": [
    {
     "name": "stdout",
     "output_type": "stream",
     "text": [
      "Não foi possível realizar a divisão.\n"
     ]
    }
   ],
   "source": [
    "\n",
    "import logging\n",
    "\n",
    "logging.basicConfig(filename='app.log', level=logging.ERROR)\n",
    "\n",
    "def dividir(a, b):\n",
    "    try:\n",
    "        return a / b\n",
    "    except ZeroDivisionError as e:\n",
    "        logging.error(\"Erro ao dividir %s por %s\", a, b, exc_info=True)\n",
    "        raise\n",
    "\n",
    "try:\n",
    "    resultado = dividir(10, 0)\n",
    "except ZeroDivisionError:\n",
    "    print(\"Não foi possível realizar a divisão.\")\n"
   ]
  },
  {
   "cell_type": "markdown",
   "metadata": {},
   "source": [
    "\n",
    "\n",
    "**Explicação:**\n",
    "\n",
    "- Configuramos o módulo `logging` para registrar erros em um arquivo.\n",
    "- No bloco `except`, usamos `logging.error` com `exc_info=True` para incluir o traceback completo.\n",
    "- Re-lançamos a exceção após registrá-la.\n",
    "- **Aplicação:** Registrar exceções é fundamental em aplicações maiores para monitorar erros e realizar depuração sem interromper a experiência do usuário.\n",
    "\n",
    "---\n"
   ]
  },
  {
   "cell_type": "markdown",
   "metadata": {},
   "source": [
    "\n",
    "### **Caso 6: Tratamento de múltiplas exceções em um único bloco except**\n",
    "\n",
    "**Situação:** Tratar diferentes tipos de exceções da mesma forma.\n",
    "\n"
   ]
  },
  {
   "cell_type": "code",
   "execution_count": null,
   "metadata": {},
   "outputs": [
    {
     "name": "stdout",
     "output_type": "stream",
     "text": [
      "Erro: invalid literal for int() with base 10: 'l'\n",
      "Você digitou um valor inválido, tente novamente...\n"
     ]
    },
    {
     "ename": "ValueError",
     "evalue": "invalid literal for int() with base 10: 'l'",
     "output_type": "error",
     "traceback": [
      "\u001b[1;31m---------------------------------------------------------------------------\u001b[0m",
      "\u001b[1;31mValueError\u001b[0m                                Traceback (most recent call last)",
      "Cell \u001b[1;32mIn[8], line 9\u001b[0m\n\u001b[0;32m      8\u001b[0m \u001b[38;5;28;01mtry\u001b[39;00m:\n\u001b[1;32m----> 9\u001b[0m     numero \u001b[38;5;241m=\u001b[39m \u001b[43mler_numero\u001b[49m\u001b[43m(\u001b[49m\u001b[43m)\u001b[49m\n\u001b[0;32m     10\u001b[0m     resultado \u001b[38;5;241m=\u001b[39m \u001b[38;5;241m10\u001b[39m \u001b[38;5;241m/\u001b[39m numero\n",
      "Cell \u001b[1;32mIn[8], line 4\u001b[0m, in \u001b[0;36mler_numero\u001b[1;34m()\u001b[0m\n\u001b[0;32m      3\u001b[0m     valor \u001b[38;5;241m=\u001b[39m \u001b[38;5;28minput\u001b[39m(\u001b[38;5;124m\"\u001b[39m\u001b[38;5;124mDigite um número: \u001b[39m\u001b[38;5;124m\"\u001b[39m)\n\u001b[1;32m----> 4\u001b[0m     \u001b[38;5;28;01mreturn\u001b[39;00m \u001b[38;5;28;43mint\u001b[39;49m\u001b[43m(\u001b[49m\u001b[43mvalor\u001b[49m\u001b[43m)\u001b[49m\n\u001b[0;32m      5\u001b[0m \u001b[38;5;28;01mexcept\u001b[39;00m:\n",
      "\u001b[1;31mValueError\u001b[0m: invalid literal for int() with base 10: 'l'",
      "\nDuring handling of the above exception, another exception occurred:\n",
      "\u001b[1;31mValueError\u001b[0m                                Traceback (most recent call last)",
      "Cell \u001b[1;32mIn[8], line 14\u001b[0m\n\u001b[0;32m     12\u001b[0m     \u001b[38;5;28mprint\u001b[39m(\u001b[38;5;124mf\u001b[39m\u001b[38;5;124m\"\u001b[39m\u001b[38;5;124mErro: \u001b[39m\u001b[38;5;132;01m{\u001b[39;00me\u001b[38;5;132;01m}\u001b[39;00m\u001b[38;5;124m\"\u001b[39m)\n\u001b[0;32m     13\u001b[0m     \u001b[38;5;28mprint\u001b[39m(\u001b[38;5;124m\"\u001b[39m\u001b[38;5;124mVocê digitou um valor inválido, tente novamente...\u001b[39m\u001b[38;5;124m\"\u001b[39m)\n\u001b[1;32m---> 14\u001b[0m     \u001b[43mler_numero\u001b[49m\u001b[43m(\u001b[49m\u001b[43m)\u001b[49m\n\u001b[0;32m     15\u001b[0m \u001b[38;5;28;01melse\u001b[39;00m:\n\u001b[0;32m     16\u001b[0m     \u001b[38;5;28mprint\u001b[39m(\u001b[38;5;124mf\u001b[39m\u001b[38;5;124m\"\u001b[39m\u001b[38;5;124mO resultado é \u001b[39m\u001b[38;5;132;01m{\u001b[39;00mresultado\u001b[38;5;132;01m}\u001b[39;00m\u001b[38;5;124m\"\u001b[39m)\n",
      "Cell \u001b[1;32mIn[8], line 4\u001b[0m, in \u001b[0;36mler_numero\u001b[1;34m()\u001b[0m\n\u001b[0;32m      2\u001b[0m \u001b[38;5;28;01mtry\u001b[39;00m:\n\u001b[0;32m      3\u001b[0m     valor \u001b[38;5;241m=\u001b[39m \u001b[38;5;28minput\u001b[39m(\u001b[38;5;124m\"\u001b[39m\u001b[38;5;124mDigite um número: \u001b[39m\u001b[38;5;124m\"\u001b[39m)\n\u001b[1;32m----> 4\u001b[0m     \u001b[38;5;28;01mreturn\u001b[39;00m \u001b[38;5;28;43mint\u001b[39;49m\u001b[43m(\u001b[49m\u001b[43mvalor\u001b[49m\u001b[43m)\u001b[49m\n\u001b[0;32m      5\u001b[0m \u001b[38;5;28;01mexcept\u001b[39;00m:\n\u001b[0;32m      6\u001b[0m     \u001b[38;5;28;01mraise\u001b[39;00m\n",
      "\u001b[1;31mValueError\u001b[0m: invalid literal for int() with base 10: 'l'"
     ]
    }
   ],
   "source": [
    "\n",
    "def ler_numero():\n",
    "    valor = input(\"Digite um número: \")\n",
    "    return int(valor)\n",
    "\n",
    "try:\n",
    "    numero = ler_numero()\n",
    "    resultado = 10 / numero\n",
    "except (ValueError, ZeroDivisionError) as e:\n",
    "    print(f\"Erro: {e}\")\n",
    "else:\n",
    "    print(f\"O resultado é {resultado}\")\n"
   ]
  },
  {
   "cell_type": "markdown",
   "metadata": {},
   "source": [
    "\n",
    "\n",
    "**Explicação:**\n",
    "\n",
    "- Capturamos `ValueError` (quando a conversão para inteiro falha) e `ZeroDivisionError` (quando o usuário digita zero) no mesmo bloco `except`.\n",
    "- Podemos tratar ambos os erros da mesma forma, simplificando o código.\n",
    "- **Aplicação:** Útil quando diferentes exceções requerem o mesmo tratamento, tornando o código mais conciso.\n",
    "\n",
    "---\n"
   ]
  },
  {
   "cell_type": "markdown",
   "metadata": {},
   "source": [
    "\n",
    "### **Caso 7: Exceções condicionais com assert**\n",
    "\n",
    "**Situação:** Garantir que certas condições sejam verdadeiras durante a execução do programa.\n",
    "\n"
   ]
  },
  {
   "cell_type": "code",
   "execution_count": 14,
   "metadata": {},
   "outputs": [
    {
     "name": "stdout",
     "output_type": "stream",
     "text": [
      "Erro: O valor não pode ser negativo.\n"
     ]
    }
   ],
   "source": [
    "\n",
    "def calcular_raiz_quadrada(valor):\n",
    "    assert valor >= 0, \"O valor não pode ser negativo.\"\n",
    "    return valor ** 0.5\n",
    "\n",
    "try:\n",
    "    resultado = calcular_raiz_quadrada(-4)\n",
    "except AssertionError as e:\n",
    "    print(f\"Erro: {e}\")\n"
   ]
  },
  {
   "cell_type": "markdown",
   "metadata": {},
   "source": [
    "\n",
    "\n",
    "**Explicação:**\n",
    "\n",
    "- Utilizamos `assert` para verificar se o valor é não negativo.\n",
    "- Se a condição falhar, um `AssertionError` é lançado.\n",
    "- **Aplicação:** Útil para verificar condições que devem ser sempre verdadeiras durante o desenvolvimento e depuração.\n",
    "\n",
    "---\n"
   ]
  },
  {
   "cell_type": "markdown",
   "metadata": {},
   "source": [
    "\n",
    "### **Caso 8: Exceções personalizadas com hierarquia**\n",
    "\n",
    "**Situação:** Criar uma hierarquia de exceções personalizadas para diferentes tipos de erros em uma aplicação.\n",
    "\n"
   ]
  },
  {
   "cell_type": "code",
   "execution_count": 15,
   "metadata": {},
   "outputs": [
    {
     "name": "stdout",
     "output_type": "stream",
     "text": [
      "Erro de conexão.\n"
     ]
    }
   ],
   "source": [
    "\n",
    "class ErroAplicacao(Exception):\n",
    "    pass\n",
    "\n",
    "class ErroConexao(ErroAplicacao):\n",
    "    pass\n",
    "\n",
    "class ErroAutenticacao(ErroAplicacao):\n",
    "    pass\n",
    "\n",
    "def conectar():\n",
    "    raise ErroConexao(\"Falha ao conectar ao servidor.\")\n",
    "\n",
    "try:\n",
    "    conectar()\n",
    "except ErroAutenticacao:\n",
    "    print(\"Erro de autenticação.\")\n",
    "except ErroConexao:\n",
    "    print(\"Erro de conexão.\")\n",
    "except ErroAplicacao:\n",
    "    print(\"Erro genérico da aplicação.\")\n"
   ]
  },
  {
   "cell_type": "markdown",
   "metadata": {},
   "source": [
    "\n",
    "**Explicação:**\n",
    "\n",
    "- Criamos uma exceção base `ErroAplicacao` e outras exceções que herdam dela.\n",
    "- Podemos capturar exceções específicas ou tratar todas as exceções relacionadas à aplicação de uma só vez.\n",
    "- **Aplicação:** A hierarquia de exceções permite um tratamento mais estruturado e organizado dos erros, especialmente em aplicações complexas.\n",
    "\n",
    "---\n"
   ]
  },
  {
   "cell_type": "markdown",
   "metadata": {},
   "source": [
    "\n",
    "### **Caso 9: Uso do bloco try-except-else-finally completo**\n",
    "\n",
    "**Situação:** Processar dados somente se não houver exceções e garantir a liberação de recursos.\n",
    "\n"
   ]
  },
  {
   "cell_type": "code",
   "execution_count": 9,
   "metadata": {},
   "outputs": [
    {
     "name": "stdout",
     "output_type": "stream",
     "text": [
      "Erro: Arquivo não encontrado.\n",
      "Operação concluída.\n"
     ]
    }
   ],
   "source": [
    "\n",
    "try:\n",
    "    arquivo = open('dados.txt', 'r')\n",
    "except FileNotFoundError:\n",
    "    print(\"Erro: Arquivo não encontrado.\")\n",
    "    with open(\"dados.txt\", \"w\") as f:\n",
    "        f.write(\"Agora o arquivo existe\\n\")\n",
    "else:\n",
    "    try:\n",
    "        dados = arquivo.read()\n",
    "        resultado = int(dados)\n",
    "    except ValueError:\n",
    "        print(\"Erro: Dados inválidos no arquivo.\")\n",
    "    else:\n",
    "        print(f\"Dados processados: {resultado}\")\n",
    "    finally:\n",
    "        arquivo.close()\n",
    "        print(\"Arquivo fechado.\")\n",
    "finally:\n",
    "    print(\"Operação concluída.\")\n"
   ]
  },
  {
   "cell_type": "markdown",
   "metadata": {},
   "source": [
    "\n",
    "\n",
    "**Explicação:**\n",
    "\n",
    "- O bloco `else` do primeiro `try` é executado somente se o arquivo for aberto com sucesso.\n",
    "- Dentro dele, temos outro `try-except-else-finally` para processamento dos dados.\n",
    "- O `finally` interno fecha o arquivo, enquanto o `finally` externo indica que a operação foi concluída.\n",
    "- **Aplicação:** Útil para controlar fluxos complexos onde diferentes etapas dependem do sucesso das anteriores, garantindo sempre a liberação de recursos.\n",
    "\n",
    "---\n"
   ]
  },
  {
   "cell_type": "markdown",
   "metadata": {},
   "source": [
    "\n",
    "### **Caso 10: Manipulação de exceções em programação concorrente (threads)**\n",
    "\n",
    "**Situação:** Capturar exceções em threads separadas e comunicá-las à thread principal.\n",
    "\n"
   ]
  },
  {
   "cell_type": "code",
   "execution_count": 17,
   "metadata": {},
   "outputs": [
    {
     "name": "stdout",
     "output_type": "stream",
     "text": [
      "Exceção na thread: division by zero\n"
     ]
    }
   ],
   "source": [
    "import threading\n",
    "\n",
    "def tarefa():\n",
    "    try:\n",
    "        resultado = 10 / 0\n",
    "    except Exception as e:\n",
    "        thread_excecao[threading.current_thread()] = e\n",
    "\n",
    "thread_excecao = {}\n",
    "t = threading.Thread(target=tarefa)\n",
    "t.start()\n",
    "t.join()\n",
    "\n",
    "if t in thread_excecao:\n",
    "    print(f\"Exceção na thread: {thread_excecao[t]}\")\n",
    "else:\n",
    "    print(\"Thread executada com sucesso.\")\n",
    "\n"
   ]
  },
  {
   "cell_type": "markdown",
   "metadata": {},
   "source": [
    "\n",
    "**Explicação:**\n",
    "\n",
    "- As exceções em threads não são automaticamente propagadas para a thread principal.\n",
    "- Usamos um dicionário compartilhado `thread_excecao` para armazenar exceções ocorridas em threads.\n",
    "- Após a execução, verificamos se a thread registrou alguma exceção.\n",
    "- **Aplicação:** Importante em aplicações multithreaded para monitorar e gerenciar erros ocorridos em threads separadas.\n",
    "\n",
    "---\n"
   ]
  },
  {
   "cell_type": "markdown",
   "metadata": {},
   "source": [
    "\n",
    "### **Conclusão**\n",
    "\n",
    "O tratamento de exceções em Python é uma ferramenta poderosa que permite construir aplicações robustas e resilientes a erros. Ao explorar casos mais complexos e utilizar recursos avançados, podemos:\n",
    "\n",
    "- **Fornecer feedback específico ao usuário:** Tratando exceções de forma granular, podemos informar ao usuário exatamente o que deu errado.\n",
    "- **Garantir a integridade dos recursos:** Usando `finally` e gerenciadores de contexto, asseguramos que recursos como arquivos e conexões sejam liberados adequadamente.\n",
    "- **Facilitar a depuração e manutenção:** Com exceções encadeadas e registro de logs, podemos rastrear e resolver problemas de forma mais eficiente.\n",
    "- **Organizar o código de forma estruturada:** Com exceções personalizadas e hierarquias, mantemos o código limpo e organizado, facilitando a leitura e manutenção.\n",
    "\n",
    "Esses recursos são essenciais em aplicações reais, onde erros podem ocorrer a qualquer momento, e o tratamento adequado das exceções é crucial para a confiabilidade e usabilidade do software."
   ]
  }
 ],
 "metadata": {
  "kernelspec": {
   "display_name": ".venv",
   "language": "python",
   "name": "python3"
  },
  "language_info": {
   "codemirror_mode": {
    "name": "ipython",
    "version": 3
   },
   "file_extension": ".py",
   "mimetype": "text/x-python",
   "name": "python",
   "nbconvert_exporter": "python",
   "pygments_lexer": "ipython3",
   "version": "3.12.7"
  }
 },
 "nbformat": 4,
 "nbformat_minor": 2
}
