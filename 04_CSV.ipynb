{
 "cells": [
  {
   "cell_type": "markdown",
   "metadata": {},
   "source": [
    "# Módulo CSV"
   ]
  },
  {
   "cell_type": "markdown",
   "metadata": {},
   "source": [
    "\n",
    "## Objetivo:\n",
    "Ler e escrever arquivos CSV em Python, utilizando o modulo `csv`, e introduzir tecnicas avancadas para manipulacao desses arquivos.\n"
   ]
  },
  {
   "cell_type": "markdown",
   "metadata": {},
   "source": [
    "- Leitura de CSV"
   ]
  },
  {
   "cell_type": "code",
   "execution_count": null,
   "metadata": {},
   "outputs": [
    {
     "name": "stdout",
     "output_type": "stream",
     "text": [
      "['Nome', 'Idade']\n",
      "['Alice', '30']\n",
      "['Bob', '25']\n"
     ]
    }
   ],
   "source": [
    "import csv\n",
    "\n",
    "# Exemplo: Leitura de um arquivo CSV\n",
    "with open('dados/exemplo.csv', 'r') as arquivo_csv:\n",
    "    leitor = csv.reader(arquivo_csv, delimiter=',')\n",
    "    for linha in leitor:\n",
    "        print(linha)\n"
   ]
  },
  {
   "cell_type": "markdown",
   "metadata": {},
   "source": [
    "### Atenção à importância do parâmetro delimiter, especialmente em arquivos que podem usar delimitadores diferentes da vírgula."
   ]
  },
  {
   "cell_type": "markdown",
   "metadata": {},
   "source": [
    "- Escrita de CSV\n",
    "\n",
    "  - Função `csv.writer` para escrever dados em um arquivo CSV, incluindo a criação de cabeçalhos e linhas de dados.\n",
    "  -  `writerows` pode ser usado para escrever múltiplas linhas de uma vez."
   ]
  },
  {
   "cell_type": "code",
   "execution_count": 2,
   "metadata": {},
   "outputs": [],
   "source": [
    "import csv\n",
    "\n",
    "# Exemplo: Escrita em um arquivo CSV\n",
    "dados = [\n",
    "            ['Nome', 'Idade'],\n",
    "            ['Alice', 30], \n",
    "            ['Bob', 25], \n",
    "            [\"Alef\", 83],\n",
    "            [\"Leonardo\", 15]\n",
    "            # \"aula de python\"\n",
    "    ]\n",
    "\n",
    "with open('saida.csv', 'w', newline='') as arquivo_csv:\n",
    "    escritor = csv.writer(arquivo_csv, delimiter=',')\n",
    "    escritor.writerows(dados)\n"
   ]
  },
  {
   "cell_type": "code",
   "execution_count": 19,
   "metadata": {},
   "outputs": [],
   "source": [
    "import csv\n",
    "\n",
    "# Escrevendo em um arquivo CSV\n",
    "with open('dados/exemplinho.csv', 'w', newline='') as f:\n",
    "    writer = csv.writer(f)\n",
    "    writer.writerow(['nome', ('cidade','estado'), 'idade'])\n",
    "    writer.writerow(['Alice', 'Recife', 28])\n",
    "    writer.writerows(dados)\n"
   ]
  },
  {
   "cell_type": "code",
   "execution_count": 20,
   "metadata": {},
   "outputs": [
    {
     "name": "stdout",
     "output_type": "stream",
     "text": [
      "['nome', \"('cidade', 'estado')\", 'idade']\n",
      "['Alice', 'Recife', '28']\n",
      "['Nome', 'Idade']\n",
      "['Alice', '30']\n",
      "['Bob', '25']\n",
      "['Alef', '83']\n",
      "['Leonardo', '15']\n"
     ]
    }
   ],
   "source": [
    "\n",
    "# Lendo um arquivo CSV\n",
    "with open('dados/exemplinho.csv', 'r') as f:\n",
    "    reader = csv.reader(f)\n",
    "    for row in reader:\n",
    "        print(row)\n"
   ]
  },
  {
   "cell_type": "markdown",
   "metadata": {},
   "source": [
    "Leitura e escrita de arquivos CSV utilizando dicionários com <code>csv.DictReader</code> e <code>csv.DictWriter</code>, permitindo um acesso mais intuitivo aos dados por meio dos cabeçalhos das colunas."
   ]
  },
  {
   "cell_type": "code",
   "execution_count": null,
   "metadata": {},
   "outputs": [
    {
     "name": "stdout",
     "output_type": "stream",
     "text": [
      "{'Nome': 'Alice', 'Idade': '30'}\n",
      "{'Nome': 'Bob', 'Idade': '25'}\n",
      "{'Nome': 'Alef', 'Idade': '83'}\n",
      "{'Nome': 'Leonardo', 'Idade': '15'}\n"
     ]
    }
   ],
   "source": [
    "with open('saida.csv', mode='r') as infile:\n",
    "    reader = csv.DictReader(infile)\n",
    "    for row in reader:\n",
    "        print(row)\n"
   ]
  },
  {
   "cell_type": "code",
   "execution_count": null,
   "metadata": {},
   "outputs": [
    {
     "data": {
      "text/plain": [
       "['excel', 'excel-tab', 'unix']"
      ]
     },
     "execution_count": 13,
     "metadata": {},
     "output_type": "execute_result"
    }
   ],
   "source": [
    "csv.list_dialects()"
   ]
  },
  {
   "cell_type": "code",
   "execution_count": 4,
   "metadata": {},
   "outputs": [],
   "source": [
    "\n",
    "with open('NovaSaida.csv', mode='w', newline='') as outfile:\n",
    "    fieldnames = ['Nome', 'Idade']\n",
    "    writer = csv.DictWriter(outfile, fieldnames=fieldnames)\n",
    "    writer.writeheader()\n",
    "    writer.writerow({'Nome': 'Carlos', 'Idade': 22})\n"
   ]
  },
  {
   "cell_type": "code",
   "execution_count": 33,
   "metadata": {},
   "outputs": [
    {
     "name": "stdout",
     "output_type": "stream",
     "text": [
      "{'Produto': 'Mesa', 'Preço': '235.76', 'Quantidade': '18', 'Data': '2023-01-01'}\n",
      "{'Produto': 'Mesa', 'Preço': '295.82', 'Quantidade': '7', 'Data': '2023-01-02'}\n",
      "{'Produto': 'Mesa', 'Preço': '235.59', 'Quantidade': '8', 'Data': '2023-01-03'}\n",
      "{'Produto': 'Sofá', 'Preço': '171.8', 'Quantidade': '19', 'Data': '2023-01-04'}\n",
      "{'Produto': 'Sofá', 'Preço': '168.39', 'Quantidade': '12', 'Data': '2023-01-05'}\n",
      "{'Produto': 'Cadeira', 'Preço': '285.38', 'Quantidade': '18', 'Data': '2023-01-06'}\n",
      "{'Produto': 'Cadeira', 'Preço': '449.83', 'Quantidade': '10', 'Data': '2023-01-07'}\n",
      "{'Produto': 'Mesa', 'Preço': '477.65', 'Quantidade': '15', 'Data': '2023-01-08'}\n",
      "{'Produto': 'Mesa', 'Preço': '343.3', 'Quantidade': '10', 'Data': '2023-01-09'}\n",
      "{'Produto': 'Sofá', 'Preço': '338.66', 'Quantidade': '19', 'Data': '2023-01-10'}\n",
      "{'Produto': 'Cadeira', 'Preço': '413.46', 'Quantidade': '1', 'Data': '2023-01-11'}\n",
      "{'Produto': 'Cadeira', 'Preço': '300.01', 'Quantidade': '10', 'Data': '2023-01-12'}\n",
      "{'Produto': 'Sofá', 'Preço': '120.15', 'Quantidade': '12', 'Data': '2023-01-13'}\n",
      "{'Produto': 'Mesa', 'Preço': '379.64', 'Quantidade': '18', 'Data': '2023-01-14'}\n",
      "{'Produto': 'Cadeira', 'Preço': '496.96', 'Quantidade': '10', 'Data': '2023-01-15'}\n",
      "{'Produto': 'Cadeira', 'Preço': '206.91', 'Quantidade': '1', 'Data': '2023-01-16'}\n",
      "{'Produto': 'Cadeira', 'Preço': '371.64', 'Quantidade': '17', 'Data': '2023-01-17'}\n",
      "{'Produto': 'Cadeira', 'Preço': '445.71', 'Quantidade': '11', 'Data': '2023-01-18'}\n",
      "{'Produto': 'Cadeira', 'Preço': '400.34', 'Quantidade': '5', 'Data': '2023-01-19'}\n",
      "{'Produto': 'Sofá', 'Preço': '485.8', 'Quantidade': '4', 'Data': '2023-01-20'}\n",
      "{'Produto': 'Sofá', 'Preço': '321.7', 'Quantidade': '9', 'Data': '2023-01-21'}\n",
      "{'Produto': 'Sofá', 'Preço': '184.96', 'Quantidade': '15', 'Data': '2023-01-22'}\n",
      "{'Produto': 'Mesa', 'Preço': '188.98', 'Quantidade': '1', 'Data': '2023-01-23'}\n",
      "{'Produto': 'Cadeira', 'Preço': '187.5', 'Quantidade': '9', 'Data': '2023-01-24'}\n",
      "{'Produto': 'Sofá', 'Preço': '327.83', 'Quantidade': '8', 'Data': '2023-01-25'}\n",
      "{'Produto': 'Cadeira', 'Preço': '280.84', 'Quantidade': '14', 'Data': '2023-01-26'}\n",
      "{'Produto': 'Cadeira', 'Preço': '488.09', 'Quantidade': '18', 'Data': '2023-01-27'}\n",
      "{'Produto': 'Cadeira', 'Preço': '372.22', 'Quantidade': '1', 'Data': '2023-01-28'}\n",
      "{'Produto': 'Cadeira', 'Preço': '134.12', 'Quantidade': '12', 'Data': '2023-01-29'}\n",
      "{'Produto': 'Mesa', 'Preço': '122.57', 'Quantidade': '5', 'Data': '2023-01-30'}\n"
     ]
    }
   ],
   "source": [
    "with open('dadosFictícios/Exemplo_Aula_8.csv', mode='r', newline='', encoding='utf-8') as infile:\n",
    "    leitor = csv.DictReader(infile)\n",
    "    for dado in leitor:\n",
    "        print(dado)\n",
    "    # display([dado for dado in leitor if float(dado[\"Preço\"]) > 300])"
   ]
  },
  {
   "cell_type": "code",
   "execution_count": 16,
   "metadata": {},
   "outputs": [],
   "source": [
    "dicionario = [\n",
    "    {\"nome\": \"João\", \"idade\": 30},\n",
    "    {\"nome\": \"Ana\", \"idade\": 25},\n",
    "    {\"nome\": \"Maria\", \"idade\": 35},\n",
    "    {\"nome\": \"Pedro\", \"idade\": 40},\n",
    "    {\"nome\": \"José\", \"idade\": 20},\n",
    "    {\"nome\": \"Marcos\", \"idade\": 30},\n",
    "    {\"nome\": \"Carlos\", \"idade\": 35},\n",
    "    {\"nome\": \"Jorge\", \"idade\": 40},\n",
    "    {\"nome\": \"Mariana\", \"idade\": 20},\n",
    "    {\"nome\": \"Marta\", \"idade\": 25},\n",
    "    {\"nome\": \"Joana\", \"idade\": 25},\n",
    "    {\"nome\": \"Carla\", \"idade\": 35},\n",
    "    {\"nome\": \"Jorge\", \"idade\": 40},\n",
    "    {\"nome\": \"Mariana\", \"idade\": 20},\n",
    "    {\"nome\": \"Marta\", \"idade\": 25}\n",
    "  ]"
   ]
  },
  {
   "cell_type": "code",
   "execution_count": null,
   "metadata": {},
   "outputs": [
    {
     "data": {
      "text/plain": [
       "[{'Produto': 'Cadeira',\n",
       "  'Preço': '449.83',\n",
       "  'Quantidade': '10',\n",
       "  'Data': '2023-01-07'},\n",
       " {'Produto': 'Mesa',\n",
       "  'Preço': '477.65',\n",
       "  'Quantidade': '15',\n",
       "  'Data': '2023-01-08'},\n",
       " {'Produto': 'Mesa',\n",
       "  'Preço': '343.3',\n",
       "  'Quantidade': '10',\n",
       "  'Data': '2023-01-09'},\n",
       " {'Produto': 'Sofá',\n",
       "  'Preço': '338.66',\n",
       "  'Quantidade': '19',\n",
       "  'Data': '2023-01-10'},\n",
       " {'Produto': 'Cadeira',\n",
       "  'Preço': '413.46',\n",
       "  'Quantidade': '1',\n",
       "  'Data': '2023-01-11'},\n",
       " {'Produto': 'Cadeira',\n",
       "  'Preço': '300.01',\n",
       "  'Quantidade': '10',\n",
       "  'Data': '2023-01-12'},\n",
       " {'Produto': 'Mesa',\n",
       "  'Preço': '379.64',\n",
       "  'Quantidade': '18',\n",
       "  'Data': '2023-01-14'},\n",
       " {'Produto': 'Cadeira',\n",
       "  'Preço': '496.96',\n",
       "  'Quantidade': '10',\n",
       "  'Data': '2023-01-15'},\n",
       " {'Produto': 'Cadeira',\n",
       "  'Preço': '371.64',\n",
       "  'Quantidade': '17',\n",
       "  'Data': '2023-01-17'},\n",
       " {'Produto': 'Cadeira',\n",
       "  'Preço': '445.71',\n",
       "  'Quantidade': '11',\n",
       "  'Data': '2023-01-18'},\n",
       " {'Produto': 'Cadeira',\n",
       "  'Preço': '400.34',\n",
       "  'Quantidade': '5',\n",
       "  'Data': '2023-01-19'},\n",
       " {'Produto': 'Sofá',\n",
       "  'Preço': '485.8',\n",
       "  'Quantidade': '4',\n",
       "  'Data': '2023-01-20'},\n",
       " {'Produto': 'Sofá',\n",
       "  'Preço': '321.7',\n",
       "  'Quantidade': '9',\n",
       "  'Data': '2023-01-21'},\n",
       " {'Produto': 'Sofá',\n",
       "  'Preço': '327.83',\n",
       "  'Quantidade': '8',\n",
       "  'Data': '2023-01-25'},\n",
       " {'Produto': 'Cadeira',\n",
       "  'Preço': '488.09',\n",
       "  'Quantidade': '18',\n",
       "  'Data': '2023-01-27'},\n",
       " {'Produto': 'Cadeira',\n",
       "  'Preço': '372.22',\n",
       "  'Quantidade': '1',\n",
       "  'Data': '2023-01-28'}]"
      ]
     },
     "metadata": {},
     "output_type": "display_data"
    }
   ],
   "source": [
    "with open('dadosFictícios/Exemplo_Aula_8.csv', mode='r', newline='', encoding='utf-8') as infile:\n",
    "    leitor = csv.DictReader(infile)\n",
    "    # for dado in leitor:\n",
    "    #     print(dado)\n",
    "    display([dado for dado in leitor if float(dado.get(\"Preço\")) > 300])"
   ]
  },
  {
   "cell_type": "code",
   "execution_count": 18,
   "metadata": {},
   "outputs": [],
   "source": [
    "with open('exemploNovo.csv', mode='w', newline='', encoding='utf-8') as outfile:\n",
    "    fieldnames = ['nome', 'idade']\n",
    "    writer = csv.DictWriter(outfile, fieldnames=fieldnames)\n",
    "    writer.writeheader()\n",
    "    writer.writerows(dicionario)"
   ]
  },
  {
   "cell_type": "markdown",
   "metadata": {},
   "source": [
    "# ==> Ir para JSON"
   ]
  },
  {
   "cell_type": "markdown",
   "metadata": {},
   "source": [
    "### Dialeto: \n",
    "Permite especificar um conjunto de parâmetros específicos para um formato de CSV particular."
   ]
  },
  {
   "cell_type": "code",
   "execution_count": null,
   "metadata": {},
   "outputs": [],
   "source": [
    "import csv\n",
    "\n",
    "csv.register_dialect('hash_dialect', delimiter='#', quoting=csv.QUOTE_MINIMAL)\n",
    "\n",
    "with open('dados/custom.csv', mode='w', newline='') as file:\n",
    "    writer = csv.writer(file, dialect='hash_dialect')\n",
    "    writer.writerow(['id', 'name'])\n",
    "    writer.writerow([1, 'Alice'])\n"
   ]
  },
  {
   "cell_type": "markdown",
   "metadata": {},
   "source": [
    "\n",
    "## Desafio:\n",
    "Dado um arquivo CSV com dados de vendas de produtos (Produto, Quantidade Vendida), escreva um script que le o arquivo, calcula o total de vendas para cada produto e salva os resultados em um novo arquivo CSV.\n"
   ]
  }
 ],
 "metadata": {
  "kernelspec": {
   "display_name": ".venv",
   "language": "python",
   "name": "python3"
  },
  "language_info": {
   "codemirror_mode": {
    "name": "ipython",
    "version": 3
   },
   "file_extension": ".py",
   "mimetype": "text/x-python",
   "name": "python",
   "nbconvert_exporter": "python",
   "pygments_lexer": "ipython3",
   "version": "3.12.5"
  }
 },
 "nbformat": 4,
 "nbformat_minor": 2
}
