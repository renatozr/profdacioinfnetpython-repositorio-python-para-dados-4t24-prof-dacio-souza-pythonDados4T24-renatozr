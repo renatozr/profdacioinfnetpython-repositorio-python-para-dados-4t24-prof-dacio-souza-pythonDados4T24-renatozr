{
 "cells": [
  {
   "cell_type": "markdown",
   "metadata": {},
   "source": [
    "\n",
    "# Módulo JSON - JavaScript Object Notation\n",
    "Manipulacao de arquivos JSON em Python, utilizando o modulo `json` para ler e escrever esses arquivos. Muito útil para lidar com API e arquivos de configurações..\n"
   ]
  },
  {
   "cell_type": "markdown",
   "metadata": {},
   "source": [
    "JSON (JavaScript Object Notation) é um formato leve de troca de dados, fácil de ler e escrever para humanos e fácil de parsear e gerar por máquinas. "
   ]
  },
  {
   "cell_type": "code",
   "execution_count": 1,
   "metadata": {},
   "outputs": [
    {
     "data": {
      "text/plain": [
       "{'nome': 'João', 'idade': 30, 'email': 'joao@email.com'}"
      ]
     },
     "execution_count": 1,
     "metadata": {},
     "output_type": "execute_result"
    }
   ],
   "source": [
    "{\n",
    "  \"nome\": \"João\",\n",
    "  \"idade\": 30,\n",
    "  \"email\" : \"joao@email.com\"\n",
    "}\n"
   ]
  },
  {
   "cell_type": "markdown",
   "metadata": {},
   "source": [
    "Ler arquivos JSON com a função `json.load()`, convertendo-os em dicionários Python."
   ]
  },
  {
   "cell_type": "code",
   "execution_count": 1,
   "metadata": {},
   "outputs": [
    {
     "name": "stdout",
     "output_type": "stream",
     "text": [
      "[{'Produto': 'Teclado', 'Marca': 'Logitech', 'Preço': 607.09, 'Quantidade': 5}, {'Produto': 'Computador', 'Marca': 'HP', 'Preço': 110.76, 'Quantidade': 17}, {'Produto': 'Mouse', 'Marca': 'Logitech', 'Preço': 511.35, 'Quantidade': 49}, {'Produto': 'Mouse', 'Marca': 'Dell', 'Preço': 978.62, 'Quantidade': 48}, {'Produto': 'Mouse', 'Marca': 'Dell', 'Preço': 882.68, 'Quantidade': 11}, {'Produto': 'Computador', 'Marca': 'Logitech', 'Preço': 371.25, 'Quantidade': 46}, {'Produto': 'Computador', 'Marca': 'HP', 'Preço': 963.49, 'Quantidade': 41}, {'Produto': 'Mouse', 'Marca': 'HP', 'Preço': 270.12, 'Quantidade': 31}, {'Produto': 'Computador', 'Marca': 'Logitech', 'Preço': 951.85, 'Quantidade': 28}, {'Produto': 'Mouse', 'Marca': 'Logitech', 'Preço': 944.31, 'Quantidade': 44}, {'Produto': 'Mouse', 'Marca': 'HP', 'Preço': 809.24, 'Quantidade': 32}, {'Produto': 'Computador', 'Marca': 'Dell', 'Preço': 648.93, 'Quantidade': 21}, {'Produto': 'Teclado', 'Marca': 'Logitech', 'Preço': 880.57, 'Quantidade': 7}, {'Produto': 'Teclado', 'Marca': 'Dell', 'Preço': 328.37, 'Quantidade': 10}, {'Produto': 'Teclado', 'Marca': 'Logitech', 'Preço': 856.5, 'Quantidade': 28}, {'Produto': 'Computador', 'Marca': 'Dell', 'Preço': 636.98, 'Quantidade': 48}, {'Produto': 'Computador', 'Marca': 'Logitech', 'Preço': 62.58, 'Quantidade': 36}, {'Produto': 'Teclado', 'Marca': 'HP', 'Preço': 379.87, 'Quantidade': 20}, {'Produto': 'Computador', 'Marca': 'Logitech', 'Preço': 190.73, 'Quantidade': 13}, {'Produto': 'Computador', 'Marca': 'HP', 'Preço': 982.74, 'Quantidade': 19}, {'Produto': 'Teclado', 'Marca': 'Dell', 'Preço': 504.45, 'Quantidade': 11}, {'Produto': 'Mouse', 'Marca': 'HP', 'Preço': 522.52, 'Quantidade': 35}, {'Produto': 'Mouse', 'Marca': 'HP', 'Preço': 657.5, 'Quantidade': 34}, {'Produto': 'Computador', 'Marca': 'Logitech', 'Preço': 400.16, 'Quantidade': 44}, {'Produto': 'Mouse', 'Marca': 'Logitech', 'Preço': 180.06, 'Quantidade': 4}, {'Produto': 'Teclado', 'Marca': 'Dell', 'Preço': 831.01, 'Quantidade': 13}, {'Produto': 'Teclado', 'Marca': 'HP', 'Preço': 230.36, 'Quantidade': 37}, {'Produto': 'Mouse', 'Marca': 'Dell', 'Preço': 535.75, 'Quantidade': 2}, {'Produto': 'Teclado', 'Marca': 'Dell', 'Preço': 263.1, 'Quantidade': 1}, {'Produto': 'Mouse', 'Marca': 'Dell', 'Preço': 142.95, 'Quantidade': 40}]\n",
      "<class 'dict'>\n"
     ]
    }
   ],
   "source": [
    "import json\n",
    "\n",
    "# Exemplo: Leitura de um arquivo JSON\n",
    "with open('dadosFictícios/Exemplo_Aula_9.json', 'r', encoding='utf-8') as arquivo_json:\n",
    "    dados = json.load(arquivo_json)\n",
    "    print(dados)\n",
    "    \n",
    "print(type(dados[0]))\n"
   ]
  },
  {
   "cell_type": "markdown",
   "metadata": {},
   "source": [
    "Converter dicionários Python de volta para o formato JSON e escrevê-los em arquivos usando a função `json.dump()`.\n",
    "- O argumento *indent* pode ser utilizado para a legibilidade do arquivo JSON gerado."
   ]
  },
  {
   "cell_type": "code",
   "execution_count": 2,
   "metadata": {},
   "outputs": [],
   "source": [
    "import json\n",
    "\n",
    "# Exemplo: Escrita em um arquivo JSON\n",
    "dados_novos = [{'Produto': 'Teclado', 'Marca': 'Logitech', 'Preço': 607.09, 'Quantidade': 5}, \n",
    "               {'Produto': 'Computador', 'Marca': ['HP', {\"Dell\":\"Gamer\"}, \"Apple\"], 'Preço': 110.76, 'Quantidade': 17},\n",
    "               {'nome': 'Alice', 'idade': 30, 'email': 'alice@example.com', 'Mátriculada': True}]\n",
    "\n",
    "with open('dados/saidinha.json', 'w', encoding='utf-8') as arquivo_json:\n",
    "    json.dump(dados_novos, arquivo_json, indent=4, ensure_ascii=False)\n"
   ]
  },
  {
   "cell_type": "code",
   "execution_count": 13,
   "metadata": {},
   "outputs": [
    {
     "name": "stdout",
     "output_type": "stream",
     "text": [
      "{'nome': 'João', 'idade': 25, 'cidade': 'São Paulo', 'booleano': False, 'coisa': None}\n"
     ]
    }
   ],
   "source": [
    "import json\n",
    "\n",
    "# Dados para serem escritos em JSON\n",
    "dados = {\"nome\": \"João\", \"idade\": 25, \"cidade\": 'São Paulo', \"booleano\" : False, 'coisa': None}\n",
    "\n",
    "# Escrevendo JSON em um arquivo\n",
    "with open('dados/dadinhos.json', 'w', encoding='utf-8' ) as f:\n",
    "    json.dump(dados, f, ensure_ascii = False)\n",
    "\n",
    "# Lendo JSON de um arquivo\n",
    "with open('dados/dadinhos.json', 'r', encoding='utf-8') as f:\n",
    "    dados_lidos = json.load(f)\n",
    "    print(dados_lidos)  # Saída: {'nome': 'João', 'idade': 25, 'cidade': 'São Paulo'}\n"
   ]
  },
  {
   "cell_type": "markdown",
   "metadata": {},
   "source": [
    "### Características de arquivos JSON\n",
    "\n",
    "- Formato de Dados: JSON é baseado em dois estruturas:\n",
    "  \n",
    "    - Coleções de pares chave/valor: Em várias linguagens, isso é realizado como um objeto, registro, estrutura, dicionário, tabela hash, lista de chaves ou array associativo.\n",
    "    - Listas ordenadas de valores: Na maioria das linguagens, isso é realizado como *arrays, vetores, listas ou sequências*.\n",
    "\n",
    "\n",
    "- Sintaxe:\n",
    "  \n",
    "    - **Objetos**: São delimitados por chaves `{ }` e contêm pares chave/valor. As chaves são strings e os valores podem ser strings, números, booleanos, arrays, objetos ou null. Por exemplo: {\"nome\": \"João\", \"idade\": 30}.\n",
    "    - **Arrays**: São delimitados por colchetes `[ ]` e contêm uma lista de valores (que podem ser de qualquer tipo mencionado acima). Por exemplo: [\"apple\", \"banana\", \"cherry\"].\n",
    "    Cada elemento em um array ou cada par chave/valor em um objeto é separado por vírgula.\n",
    "\n",
    "\n",
    "- Tipos de Dados:\n",
    "  \n",
    "    - JSON suporta os seguintes tipos de dados: *string, número, objeto (JSON object), array, booleano (**true** e **false**) e null*.\n",
    "\n",
    "- Codificação: JSON é geralmente codificado em *UTF-8.*\n",
    "\n",
    "\n",
    "- Convenções:\n",
    "  \n",
    "    - Não há comentários em JSON, o que é uma diferença significativa em relação a outros formatos de arquivo de configuração como `XML` ou `YAML`.\n",
    "    - JSON não suporta referências a outras partes do mesmo JSON diretamente.\n",
    "    - A ordem dos elementos em arrays é preservada, mas a ordem dos pares chave/valor em objetos não é garantida e pode variar de uma implementação para outra."
   ]
  },
  {
   "cell_type": "markdown",
   "metadata": {},
   "source": [
    "### Trabalhando com JSONs Complexos\n",
    "\n",
    "Manipular JSONs mais complexos que contêm listas aninhadas e dicionários, demonstrando como iterar sobre esses dados."
   ]
  },
  {
   "cell_type": "code",
   "execution_count": 12,
   "metadata": {},
   "outputs": [
    {
     "name": "stdout",
     "output_type": "stream",
     "text": [
      "João 30\n",
      "Ana 25\n",
      "Maria 35\n",
      "Pedro 40\n",
      "José 20\n",
      "Marcos 30\n",
      "Carlos 35\n",
      "Jorge 40\n",
      "Mariana 20\n",
      "Marta 25\n",
      "Joana 25\n",
      "Carla 35\n",
      "Jorge 40\n",
      "Mariana 20\n",
      "Marta 25\n"
     ]
    }
   ],
   "source": [
    "# Exemplo de JSON complexo\n",
    "dados_complexos = {\n",
    "  \"empregados\": [\n",
    "    {\"nome\": \"João\", \"idade\": 30},\n",
    "    {\"nome\": \"Ana\", \"idade\": 25},\n",
    "    {\"nome\": \"Maria\", \"idade\": 35},\n",
    "    {\"nome\": \"Pedro\", \"idade\": 40},\n",
    "    {\"nome\": \"José\", \"idade\": 20},\n",
    "    {\"nome\": \"Marcos\", \"idade\": 30},\n",
    "    {\"nome\": \"Carlos\", \"idade\": 35},\n",
    "    {\"nome\": \"Jorge\", \"idade\": 40},\n",
    "    {\"nome\": \"Mariana\", \"idade\": 20},\n",
    "    {\"nome\": \"Marta\", \"idade\": 25},\n",
    "    {\"nome\": \"Joana\", \"idade\": 25},\n",
    "    {\"nome\": \"Carla\", \"idade\": 35},\n",
    "    {\"nome\": \"Jorge\", \"idade\": 40},\n",
    "    {\"nome\": \"Mariana\", \"idade\": 20},\n",
    "    {\"nome\": \"Marta\", \"idade\": 25}\n",
    "  ]\n",
    "}\n",
    "\n",
    "# Acessando dados\n",
    "for empregado in dados_complexos[\"empregados\"]:\n",
    "    print(empregado[\"nome\"], empregado[\"idade\"])\n"
   ]
  },
  {
   "cell_type": "code",
   "execution_count": 15,
   "metadata": {},
   "outputs": [],
   "source": [
    "import json\n",
    "\n",
    "dados_complexos = {\n",
    "  \"empregados\": [\n",
    "    {\"nome\": \"João\", \"idade\": 30},\n",
    "    {\"nome\": \"Ana\", \"idade\": 25},\n",
    "    {\"nome\": \"Maria\", \"idade\": 35},\n",
    "    {\"nome\": \"Pedro\", \"idade\": 40},\n",
    "    {\"nome\": \"José\", \"idade\": 20},\n",
    "    {\"nome\": \"Marcos\", \"idade\": 30},\n",
    "    {\"nome\": \"Carlos\", \"idade\": 35},\n",
    "    {\"nome\": \"Jorge\", \"idade\": 40},\n",
    "    {\"nome\": \"Mariana\", \"idade\": 20},\n",
    "    {\"nome\": \"Marta\", \"idade\": 25},\n",
    "    {\"nome\": \"Joana\", \"idade\": 25},\n",
    "    {\"nome\": \"Carla\", \"idade\": 35},\n",
    "    {\"nome\": \"Jorge\", \"idade\": 40},\n",
    "    {\"nome\": \"Mariana\", \"idade\": 20},\n",
    "    {\"nome\": \"Marta\", \"idade\": 25}\n",
    "  ]\n",
    "}\n",
    "\n",
    "with open('dados/saidaPessoas.json', 'w') as arquivo_json:\n",
    "    json.dump(dados_complexos, arquivo_json, indent=4)\n"
   ]
  },
  {
   "cell_type": "code",
   "execution_count": 18,
   "metadata": {},
   "outputs": [
    {
     "data": {
      "text/plain": [
       "[{'nome': 'Maria', 'idade': 35},\n",
       " {'nome': 'Pedro', 'idade': 40},\n",
       " {'nome': 'Carlos', 'idade': 35},\n",
       " {'nome': 'Jorge', 'idade': 40},\n",
       " {'nome': 'Carla', 'idade': 35},\n",
       " {'nome': 'Jorge', 'idade': 40}]"
      ]
     },
     "metadata": {},
     "output_type": "display_data"
    }
   ],
   "source": [
    "# Carregando e transformando JSON\n",
    "with open('dados/saidaPessoas.json', 'r', encoding='utf-8') as f:\n",
    "    dados = json.load(f)\n",
    "dados\n",
    "\n",
    "display([empregado for empregado in dados[\"empregados\"] if empregado[\"idade\"] > 30])\n"
   ]
  },
  {
   "cell_type": "code",
   "execution_count": null,
   "metadata": {},
   "outputs": [],
   "source": [
    "import csv\n",
    "import json\n",
    "\n",
    "# Carregando e transformando JSON\n",
    "with open('dados/saidaPessoas.json', 'r', encoding='utf-8') as f:\n",
    "    dados = json.load(f)\n",
    "\n",
    "# Salvando uma lista de dicionários em CSV\n",
    "usuarios = [{'idade': 28, 'nome': 'Ana'}, {'nome': 'Amélia', 'idade': 34}]\n",
    "\n",
    "with open('dados/usuarios.csv', 'w', newline='', encoding='utf-8') as f:\n",
    "    writer = csv.DictWriter(f, fieldnames=['nome', 'idade'])\n",
    "    writer.writeheader()\n",
    "    writer.writerows(usuarios)\n",
    "    \n",
    "with open('dados/usuarios.csv', 'a', newline='', encoding='utf-8') as f:\n",
    "    writer = csv.DictWriter(f, fieldnames=['nome', 'idade'])\n",
    "    writer.writerows(dados['empregados'])\n",
    "    \n"
   ]
  }
 ],
 "metadata": {
  "kernelspec": {
   "display_name": ".venv",
   "language": "python",
   "name": "python3"
  },
  "language_info": {
   "codemirror_mode": {
    "name": "ipython",
    "version": 3
   },
   "file_extension": ".py",
   "mimetype": "text/x-python",
   "name": "python",
   "nbconvert_exporter": "python",
   "pygments_lexer": "ipython3",
   "version": "3.12.5"
  }
 },
 "nbformat": 4,
 "nbformat_minor": 2
}
